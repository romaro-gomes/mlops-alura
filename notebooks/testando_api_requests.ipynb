{
 "cells": [
  {
   "cell_type": "code",
   "execution_count": 2,
   "id": "11ee8f9b-bce1-4e52-af80-06429254d909",
   "metadata": {
    "tags": []
   },
   "outputs": [],
   "source": [
    "import requests\n"
   ]
  },
  {
   "cell_type": "code",
   "execution_count": 9,
   "id": "b9f14ce2-5b24-478c-8465-d63028596391",
   "metadata": {
    "tags": []
   },
   "outputs": [],
   "source": [
    "url='http://127.0.0.1:5000/cotacao'"
   ]
  },
  {
   "cell_type": "code",
   "execution_count": 10,
   "id": "6c2287a2-3376-489a-a8ac-3296e6568cc8",
   "metadata": {
    "tags": []
   },
   "outputs": [],
   "source": [
    "dados={\n",
    "    \"tamanho\": 1000,\n",
    "    \"ano\": 1999,\n",
    "    \"garagem\": 0\n",
    "}"
   ]
  },
  {
   "cell_type": "code",
   "execution_count": 14,
   "id": "0af915e2-7450-4cac-9752-2fc9fff46c18",
   "metadata": {
    "tags": []
   },
   "outputs": [],
   "source": [
    "auth=requests.auth.HTTPBasicAuth('romario','alura')"
   ]
  },
  {
   "cell_type": "code",
   "execution_count": 15,
   "id": "3f1141ea-244d-45dd-98e3-581098dbf10e",
   "metadata": {
    "tags": []
   },
   "outputs": [],
   "source": [
    "response= requests.post(url, json=dados,auth=auth)"
   ]
  },
  {
   "cell_type": "code",
   "execution_count": 16,
   "id": "e2de6e23-125e-4c54-965c-47e699b5a622",
   "metadata": {
    "tags": []
   },
   "outputs": [
    {
     "data": {
      "text/plain": [
       "200"
      ]
     },
     "execution_count": 16,
     "metadata": {},
     "output_type": "execute_result"
    }
   ],
   "source": [
    "response.status_code"
   ]
  },
  {
   "cell_type": "code",
   "execution_count": 17,
   "id": "076ebaac-1ef5-45ac-a580-6912f608347b",
   "metadata": {
    "tags": []
   },
   "outputs": [
    {
     "data": {
      "text/plain": [
       "'{\\n  \"preco\": 868783.6925148531\\n}\\n'"
      ]
     },
     "execution_count": 17,
     "metadata": {},
     "output_type": "execute_result"
    }
   ],
   "source": [
    "response.text"
   ]
  },
  {
   "cell_type": "code",
   "execution_count": 18,
   "id": "5c4cdc07-5627-4a7c-ba04-32a4750e6120",
   "metadata": {
    "tags": []
   },
   "outputs": [
    {
     "data": {
      "text/plain": [
       "{'preco': 868783.6925148531}"
      ]
     },
     "execution_count": 18,
     "metadata": {},
     "output_type": "execute_result"
    }
   ],
   "source": [
    "response.json()"
   ]
  },
  {
   "cell_type": "code",
   "execution_count": null,
   "id": "f1b20929-b142-43cc-b8e1-5445e7861ee1",
   "metadata": {},
   "outputs": [],
   "source": []
  }
 ],
 "metadata": {
  "kernelspec": {
   "display_name": "MLOPS",
   "language": "python",
   "name": "mlops"
  },
  "language_info": {
   "codemirror_mode": {
    "name": "ipython",
    "version": 3
   },
   "file_extension": ".py",
   "mimetype": "text/x-python",
   "name": "python",
   "nbconvert_exporter": "python",
   "pygments_lexer": "ipython3",
   "version": "3.10.6"
  }
 },
 "nbformat": 4,
 "nbformat_minor": 5
}
