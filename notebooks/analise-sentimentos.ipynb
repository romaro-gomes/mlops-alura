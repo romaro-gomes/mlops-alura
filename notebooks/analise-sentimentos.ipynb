{
 "cells": [
  {
   "cell_type": "code",
   "execution_count": 2,
   "id": "ffc222ee-1001-47a7-a0d2-5ff8863fc678",
   "metadata": {
    "tags": []
   },
   "outputs": [],
   "source": [
    "from textblob import TextBlob"
   ]
  },
  {
   "cell_type": "code",
   "execution_count": 3,
   "id": "e63f5cb9-b5ca-4495-81fa-b0b492adab68",
   "metadata": {},
   "outputs": [],
   "source": [
    "frase = \"Python é otimo para Machining Learning\""
   ]
  },
  {
   "cell_type": "code",
   "execution_count": 4,
   "id": "e412457b-633c-4313-b037-35a3a3932074",
   "metadata": {
    "tags": []
   },
   "outputs": [],
   "source": [
    "tb=TextBlob(frase)"
   ]
  },
  {
   "cell_type": "code",
   "execution_count": 9,
   "id": "d791b1cd-b204-41ec-8c2f-ee4b9f9cecaa",
   "metadata": {
    "tags": []
   },
   "outputs": [],
   "source": [
    "tb_en=tb.translate(from_lang='pt',to='en')"
   ]
  },
  {
   "cell_type": "code",
   "execution_count": 10,
   "id": "ba4da383-1dec-4ffe-abf7-e1691b454eb6",
   "metadata": {
    "tags": []
   },
   "outputs": [
    {
     "data": {
      "text/plain": [
       "TextBlob(\"Python is great for Maching Learning\")"
      ]
     },
     "execution_count": 10,
     "metadata": {},
     "output_type": "execute_result"
    }
   ],
   "source": [
    "tb_en"
   ]
  },
  {
   "cell_type": "code",
   "execution_count": 12,
   "id": "79b9daa3-c99f-4900-8bee-c7341b28d6f3",
   "metadata": {
    "tags": []
   },
   "outputs": [
    {
     "data": {
      "text/plain": [
       "0.8"
      ]
     },
     "execution_count": 12,
     "metadata": {},
     "output_type": "execute_result"
    }
   ],
   "source": [
    "tb_en.sentiment.polarity"
   ]
  },
  {
   "cell_type": "code",
   "execution_count": null,
   "id": "5f721429-5c2c-4a1c-868d-98a4a409ae4c",
   "metadata": {},
   "outputs": [],
   "source": []
  }
 ],
 "metadata": {
  "kernelspec": {
   "display_name": "Python 3 (ipykernel)",
   "language": "python",
   "name": "python3"
  },
  "language_info": {
   "codemirror_mode": {
    "name": "ipython",
    "version": 3
   },
   "file_extension": ".py",
   "mimetype": "text/x-python",
   "name": "python",
   "nbconvert_exporter": "python",
   "pygments_lexer": "ipython3",
   "version": "3.10.6"
  }
 },
 "nbformat": 4,
 "nbformat_minor": 5
}
